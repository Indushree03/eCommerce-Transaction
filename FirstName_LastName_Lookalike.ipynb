{
 "cells": [
  {
   "cell_type": "code",
   "execution_count": 1,
   "id": "836e5650",
   "metadata": {},
   "outputs": [
    {
     "name": "stdout",
     "output_type": "stream",
     "text": [
      "Lookalike model executed successfully!\n"
     ]
    }
   ],
   "source": [
    "# -*- coding: utf-8 -*-\n",
    "\"\"\"\n",
    "Final Working Lookalike Model\n",
    "\"\"\"\n",
    "import pandas as pd\n",
    "import numpy as np\n",
    "from sklearn.preprocessing import StandardScaler, OneHotEncoder\n",
    "from sklearn.metrics.pairwise import cosine_similarity\n",
    "from sklearn.compose import ColumnTransformer\n",
    "\n",
    "# Load datasets\n",
    "customers = pd.read_csv('Customers.csv')\n",
    "products = pd.read_csv('Products.csv')\n",
    "transactions = pd.read_csv('Transactions.csv')\n",
    "\n",
    "# =============================================================================\n",
    "# Step 1: Data Preparation & Feature Engineering\n",
    "# =============================================================================\n",
    "\n",
    "# Merge datasets with explicit column renaming\n",
    "merged_data = pd.merge(\n",
    "    pd.merge(\n",
    "        transactions.rename(columns={'Price': 'TransactionPrice'}),\n",
    "        products.rename(columns={'Price': 'ProductPrice'}),\n",
    "        on='ProductID'\n",
    "    ),\n",
    "    customers,\n",
    "    on='CustomerID'\n",
    ")\n",
    "\n",
    "# Create customer features with valid column references\n",
    "customer_features = merged_data.groupby('CustomerID').agg({\n",
    "    # Transaction behaviors\n",
    "    'TransactionID': 'count',\n",
    "    'TotalValue': ['sum', 'mean'],\n",
    "    'Quantity': ['sum', 'mean'],\n",
    "    'TransactionDate': lambda x: (pd.to_datetime(x).max() - pd.to_datetime(x).min()).days,\n",
    "    \n",
    "    # Product preferences\n",
    "    'Category': lambda x: x.mode()[0] if not x.empty else None,\n",
    "    'TransactionPrice': ['mean', 'max'],\n",
    "    \n",
    "    # Customer profile\n",
    "    'Region': 'first',\n",
    "    'SignupDate': lambda x: (pd.Timestamp.today() - pd.to_datetime(x).max()).days\n",
    "}).reset_index()\n",
    "\n",
    "# Flatten multi-index columns\n",
    "customer_features.columns = [\n",
    "    'CustomerID', 'TransactionCount', 'TotalSpend', 'AvgSpend',\n",
    "    'TotalQuantity', 'AvgQuantity', 'TransactionSpanDays', \n",
    "    'FavoriteCategory', 'AvgProductPrice', 'MaxProductPrice',\n",
    "    'Region', 'DaysSinceSignup'\n",
    "]\n",
    "\n",
    "# =============================================================================\n",
    "# Step 2: Data Preprocessing\n",
    "# =============================================================================\n",
    "\n",
    "preprocessor = ColumnTransformer(\n",
    "    transformers=[\n",
    "        ('num', StandardScaler(), [\n",
    "            'TransactionCount', 'TotalSpend', 'AvgSpend',\n",
    "            'TotalQuantity', 'AvgQuantity', 'TransactionSpanDays',\n",
    "            'AvgProductPrice', 'MaxProductPrice', 'DaysSinceSignup'\n",
    "        ]),\n",
    "        ('cat', OneHotEncoder(handle_unknown='ignore'), ['Region', 'FavoriteCategory'])\n",
    "    ],\n",
    "    remainder='drop'\n",
    ")\n",
    "\n",
    "processed_features = preprocessor.fit_transform(customer_features)\n",
    "\n",
    "# =============================================================================\n",
    "# Step 3: Similarity Calculation\n",
    "# =============================================================================\n",
    "\n",
    "similarity_matrix = cosine_similarity(processed_features)\n",
    "similarity_df = pd.DataFrame(\n",
    "    similarity_matrix,\n",
    "    index=customer_features['CustomerID'],\n",
    "    columns=customer_features['CustomerID']\n",
    ")\n",
    "\n",
    "# =============================================================================\n",
    "# Step 4: Generate Recommendations\n",
    "# =============================================================================\n",
    "\n",
    "def get_lookalikes(customer_id, n=3):\n",
    "    \"\"\"Return top N similar customers with scores\"\"\"\n",
    "    similarities = similarity_df[customer_id].sort_values(ascending=False)\n",
    "    return [(cust_id, round(score, 4)) \n",
    "            for cust_id, score in similarities.iloc[1:n+1].items()]\n",
    "\n",
    "results = {}\n",
    "target_customers = [f'C{str(i).zfill(4)}' for i in range(1, 21)]\n",
    "\n",
    "for cust_id in target_customers:\n",
    "    if cust_id in similarity_df.index:\n",
    "        results[cust_id] = get_lookalikes(cust_id)\n",
    "    else:\n",
    "        results[cust_id] = [('Not Found', 0.0)] * 3\n",
    "\n",
    "# =============================================================================\n",
    "# Step 5: Save Results\n",
    "# =============================================================================\n",
    "\n",
    "output_df = pd.DataFrame({\n",
    "    'CustomerID': results.keys(),\n",
    "    'Lookalikes': results.values()\n",
    "})\n",
    "\n",
    "output_df.to_csv('Lookalike.csv', index=False)\n",
    "print(\"Lookalike model executed successfully!\")"
   ]
  },
  {
   "cell_type": "code",
   "execution_count": 2,
   "id": "076dfd00",
   "metadata": {},
   "outputs": [
    {
     "data": {
      "text/plain": [
       "(   ProductID              ProductName     Category  ProductPrice\n",
       " 0       P001     ActiveWear Biography        Books        169.30\n",
       " 1       P002    ActiveWear Smartwatch  Electronics        346.30\n",
       " 2       P003  ComfortLiving Biography        Books         44.12\n",
       " 3       P004            BookWorld Rug   Home Decor         95.69\n",
       " 4       P005          TechPro T-Shirt     Clothing        429.31\n",
       " ..       ...                      ...          ...           ...\n",
       " 95      P096     SoundWave Headphones  Electronics        307.47\n",
       " 96      P097       BookWorld Cookbook        Books        319.34\n",
       " 97      P098         SoundWave Laptop  Electronics        299.93\n",
       " 98      P099   SoundWave Mystery Book        Books        354.29\n",
       " 99      P100        HomeSense Sweater     Clothing        126.34\n",
       " \n",
       " [100 rows x 4 columns],)"
      ]
     },
     "execution_count": 2,
     "metadata": {},
     "output_type": "execute_result"
    }
   ],
   "source": [
    "transactions.rename(columns={'Price': 'TransactionPrice'}),\n",
    "products.rename(columns={'Price': 'ProductPrice'}),"
   ]
  },
  {
   "cell_type": "code",
   "execution_count": 3,
   "id": "15b0ed00",
   "metadata": {},
   "outputs": [
    {
     "name": "stdout",
     "output_type": "stream",
     "text": [
      "Merged data columns: ['TransactionID', 'CustomerID', 'ProductID', 'TransactionDate', 'Quantity', 'TotalValue', 'TransactionPrice', 'ProductName', 'Category', 'ProductPrice', 'CustomerName', 'Region', 'SignupDate']\n"
     ]
    }
   ],
   "source": [
    "print(\"Merged data columns:\", merged_data.columns.tolist())"
   ]
  },
  {
   "cell_type": "code",
   "execution_count": null,
   "id": "41e61018",
   "metadata": {},
   "outputs": [],
   "source": []
  }
 ],
 "metadata": {
  "kernelspec": {
   "display_name": "Python 3 (ipykernel)",
   "language": "python",
   "name": "python3"
  },
  "language_info": {
   "codemirror_mode": {
    "name": "ipython",
    "version": 3
   },
   "file_extension": ".py",
   "mimetype": "text/x-python",
   "name": "python",
   "nbconvert_exporter": "python",
   "pygments_lexer": "ipython3",
   "version": "3.7.0"
  }
 },
 "nbformat": 4,
 "nbformat_minor": 5
}
